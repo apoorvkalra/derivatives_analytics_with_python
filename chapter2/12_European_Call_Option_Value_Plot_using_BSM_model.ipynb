{
  "nbformat": 4,
  "nbformat_minor": 0,
  "metadata": {
    "colab": {
      "provenance": [],
      "authorship_tag": "ABX9TyMxV8Q440Y5hcLXZlp0FiF3",
      "include_colab_link": true
    },
    "kernelspec": {
      "name": "python3",
      "display_name": "Python 3"
    },
    "language_info": {
      "name": "python"
    }
  },
  "cells": [
    {
      "cell_type": "markdown",
      "metadata": {
        "id": "view-in-github",
        "colab_type": "text"
      },
      "source": [
        "<a href=\"https://colab.research.google.com/github/apoorvkalra/derivatives_analytics_with_python/blob/main/chapter2/12_European_Call_Option_Value_Plot_using_BSM_model.ipynb\" target=\"_parent\"><img src=\"https://colab.research.google.com/assets/colab-badge.svg\" alt=\"Open In Colab\"/></a>"
      ]
    },
    {
      "cell_type": "code",
      "execution_count": null,
      "metadata": {
        "id": "4lrvftQ7ORYY"
      },
      "outputs": [],
      "source": []
    },
    {
      "cell_type": "markdown",
      "source": [
        "European Call Option Value Plot using BSM model\n",
        "\n",
        "\n",
        "---\n",
        "\n",
        "\n",
        "---\n",
        "\n",
        "\n",
        "\n"
      ],
      "metadata": {
        "id": "PZYFiN_pOUY1"
      }
    },
    {
      "cell_type": "code",
      "source": [
        "# Importing libraries\n",
        "import numpy as np\n",
        "import matplotlib as mpl\n",
        "import matplotlib.pyplot as plt\n",
        "import math\n",
        "from scipy.integrate import quad"
      ],
      "metadata": {
        "id": "GmFqEd2COuOP"
      },
      "execution_count": 5,
      "outputs": []
    },
    {
      "cell_type": "code",
      "source": [
        "# Model and Option Parameters\n",
        "K = 8000 # strike price\n",
        "T = 1.0 # time-to-maturity\n",
        "r = 0.025 # constant, risk-less short rate\n",
        "vol = 0.2 # constant volatility"
      ],
      "metadata": {
        "id": "NqwKJu8ZP2i1"
      },
      "execution_count": 6,
      "outputs": []
    },
    {
      "cell_type": "code",
      "source": [
        "# Sample Data Generation\n",
        "S = np.linspace(4000, 12000, 150) # vector of index level values\n",
        "h = np.maximum(S - K, 0) # intrinsic value of option"
      ],
      "metadata": {
        "id": "byVewnj6P6DY"
      },
      "execution_count": 7,
      "outputs": []
    },
    {
      "cell_type": "code",
      "source": [
        "def dN(x):\n",
        "  ''' Probability density function of standard normal random variable x.'''\n",
        "  return math.exp(-0.5 * x ** 2) / math.sqrt(2 * math.pi)\n",
        "def N(d):\n",
        "  ''' Cumulative density function of standard normal random variable x. '''\n",
        "  return quad(lambda x: dN(x), -20, d, limit=50)[0]\n",
        "\n",
        "def d1f(St, K, t, T, r, sigma):\n",
        "# Black-Scholes-Merton d1 function.\n",
        "# Parameters see e.g. BSM_call_value function. \n",
        "  d1 = (math.log(St / K) + (r + 0.5 * sigma ** 2) * (T - t)) / (sigma * math.sqrt(T - t))\n",
        "  return d1\n",
        "\n",
        "def BSM_call_value(St, K, t, T, r, sigma):\n",
        "  # Calculates Black-Scholes-Merton European call option value.\n",
        "  d1 = d1f(St, K, t, T, r, sigma)\n",
        "  d2 = d1 - sigma * math.sqrt(T - t)\n",
        "  call_value = St * N(d1) - math.exp(-r * (T - t)) * K * N(d2)\n",
        "  return call_value\n"
      ],
      "metadata": {
        "id": "SpEqXxc9QHqI"
      },
      "execution_count": 9,
      "outputs": []
    },
    {
      "cell_type": "code",
      "source": [
        "C = [BSM_call_value(S0, K, 0, T, r, vol) for S0 in S]\n",
        "# calculate call option values\n",
        "#"
      ],
      "metadata": {
        "id": "vdu15LZDQT6b"
      },
      "execution_count": 10,
      "outputs": []
    },
    {
      "cell_type": "code",
      "source": [
        "plt.figure()\n",
        "plt.plot(S, h, 'b-.', lw=2.5, label='intrinsic value')\n",
        "# plot inner value at maturity\n",
        "plt.plot(S, C, 'r', lw=2.5, label='present value')\n",
        "# plot option present value\n",
        "plt.grid(True)\n",
        "plt.legend(loc=0)\n",
        "plt.xlabel('index level $S_0$')\n",
        "plt.ylabel('present value $C(t=0)$')"
      ],
      "metadata": {
        "colab": {
          "base_uri": "https://localhost:8080/",
          "height": 300
        },
        "id": "E1DUQNC-SUuL",
        "outputId": "c91d3c82-47ab-4058-acda-5aa6388cd890"
      },
      "execution_count": 11,
      "outputs": [
        {
          "output_type": "execute_result",
          "data": {
            "text/plain": [
              "Text(0, 0.5, 'present value $C(t=0)$')"
            ]
          },
          "metadata": {},
          "execution_count": 11
        },
        {
          "output_type": "display_data",
          "data": {
            "text/plain": [
              "<Figure size 432x288 with 1 Axes>"
            ],
            "image/png": "[encoded data removed]"
          },
          "metadata": {
            "needs_background": "light"
          }
        }
      ]
    },
    {
      "cell_type": "code",
      "source": [],
      "metadata": {
        "id": "rG3JgI21S0mu"
      },
      "execution_count": null,
      "outputs": []
    }
  ]
}