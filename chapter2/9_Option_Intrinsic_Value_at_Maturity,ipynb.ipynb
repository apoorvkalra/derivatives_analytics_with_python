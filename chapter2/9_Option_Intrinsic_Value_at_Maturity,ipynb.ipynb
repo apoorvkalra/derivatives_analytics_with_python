{
  "nbformat": 4,
  "nbformat_minor": 0,
  "metadata": {
    "colab": {
      "provenance": [],
      "authorship_tag": "ABX9TyMgSKZLUOICAf8qbwfLY5qn",
      "include_colab_link": true
    },
    "kernelspec": {
      "name": "python3",
      "display_name": "Python 3"
    },
    "language_info": {
      "name": "python"
    }
  },
  "cells": [
    {
      "cell_type": "markdown",
      "metadata": {
        "id": "view-in-github",
        "colab_type": "text"
      },
      "source": [
        "<a href=\"https://colab.research.google.com/github/apoorvkalra/derivatives_analytics_with_python/blob/main/chapter2/9_Option_Intrinsic_Value_at_Maturity%2Cipynb.ipynb\" target=\"_parent\"><img src=\"https://colab.research.google.com/assets/colab-badge.svg\" alt=\"Open In Colab\"/></a>"
      ]
    },
    {
      "cell_type": "markdown",
      "source": [
        "**Option Intrinsic Value at Maturity**\n",
        "\n",
        "\n",
        "---\n",
        "\n",
        "\n",
        "\n",
        "---\n",
        "\n"
      ],
      "metadata": {
        "id": "i08fsAG2K9Ls"
      }
    },
    {
      "cell_type": "code",
      "source": [
        "# Import dependant libraries\n",
        "import numpy as np\n",
        "import matplotlib as mpl\n",
        "import matplotlib.pyplot as plt"
      ],
      "metadata": {
        "id": "Z3hYGQE5LG_8"
      },
      "execution_count": 1,
      "outputs": []
    },
    {
      "cell_type": "code",
      "source": [
        "K = 8000 # Strike price\n",
        "S = np.linspace(7000,9000,100) # Index prices at maturity"
      ],
      "metadata": {
        "id": "R3muZYyFLQGR"
      },
      "execution_count": 2,
      "outputs": []
    },
    {
      "cell_type": "code",
      "source": [
        "h = np.maximum(S-K,0) # Option Payoff at maturity"
      ],
      "metadata": {
        "id": "0bF7TDaRLUSb"
      },
      "execution_count": 3,
      "outputs": []
    },
    {
      "cell_type": "code",
      "source": [
        "# Code to plot the graph\n",
        "plt.figure()\n",
        "plt.plot(S, h, lw=2.5)\n",
        "plt.xlabel(\"Index level at Maturity\")\n",
        "plt.ylabel(\"Option payoff\")\n",
        "plt.grid(True)"
      ],
      "metadata": {
        "colab": {
          "base_uri": "https://localhost:8080/",
          "height": 279
        },
        "id": "q3HMmnKvLWY4",
        "outputId": "4aaceeb2-3e4a-4ed8-a5c9-62541c950380"
      },
      "execution_count": 4,
      "outputs": [
        {
          "output_type": "display_data",
          "data": {
            "text/plain": [
              "<Figure size 432x288 with 1 Axes>"
            ],
            "image/png": "[encoded data removed]"
          },
          "metadata": {
            "needs_background": "light"
          }
        }
      ]
    },
    {
      "cell_type": "code",
      "source": [],
      "metadata": {
        "id": "QsrIuBuZLZAj"
      },
      "execution_count": null,
      "outputs": []
    }
  ]
}